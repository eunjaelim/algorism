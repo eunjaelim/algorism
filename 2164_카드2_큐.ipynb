{
  "nbformat": 4,
  "nbformat_minor": 0,
  "metadata": {
    "colab": {
      "provenance": [],
      "authorship_tag": "ABX9TyMnIacU42ns6W2YEbgs7drm",
      "include_colab_link": true
    },
    "kernelspec": {
      "name": "python3",
      "display_name": "Python 3"
    },
    "language_info": {
      "name": "python"
    }
  },
  "cells": [
    {
      "cell_type": "markdown",
      "metadata": {
        "id": "view-in-github",
        "colab_type": "text"
      },
      "source": [
        "<a href=\"https://colab.research.google.com/github/eunjaelim/algorism/blob/main/2164_%EC%B9%B4%EB%93%9C2_%ED%81%90.ipynb\" target=\"_parent\"><img src=\"https://colab.research.google.com/assets/colab-badge.svg\" alt=\"Open In Colab\"/></a>"
      ]
    },
    {
      "cell_type": "code",
      "execution_count": 66,
      "metadata": {
        "colab": {
          "base_uri": "https://localhost:8080/"
        },
        "id": "_0xJE2vxHTAx",
        "outputId": "1e045a2c-9c9c-4178-fb7b-e0a5d66e55fa"
      },
      "outputs": [
        {
          "output_type": "stream",
          "name": "stdout",
          "text": [
            "[4]\n"
          ]
        }
      ],
      "source": [
        "\n",
        "num = [1,2,3,4,5,6]\n",
        "\n",
        "while len(num) > 0:\n",
        "      num.pop(0)\n",
        "      if len(num) > 0 :\n",
        "        num.append(num[0])\n",
        "        num.pop(0)\n",
        "      if len(num) == 1 :\n",
        "          break\n",
        "print(num)"
      ]
    },
    {
      "cell_type": "code",
      "source": [
        "from collections import deque\n",
        "\n",
        "N = int(input())\n",
        "dq =deque(range(1,N+1))\n",
        "print(deque)\n",
        "while len(dq) > 1 :\n",
        "  dq.popleft()\n",
        "  dq.append(dq.popleft())\n",
        "  print(dq)"
      ],
      "metadata": {
        "colab": {
          "base_uri": "https://localhost:8080/"
        },
        "id": "rekroKxmTwEh",
        "outputId": "1c536dd4-cec8-404b-9719-e71d7d9ec89a"
      },
      "execution_count": 74,
      "outputs": [
        {
          "output_type": "stream",
          "name": "stdout",
          "text": [
            "6\n",
            "<class 'collections.deque'>\n",
            "deque([3, 4, 5, 6, 2])\n",
            "deque([5, 6, 2, 4])\n",
            "deque([2, 4, 6])\n",
            "deque([6, 4])\n",
            "deque([4])\n"
          ]
        }
      ]
    },
    {
      "cell_type": "code",
      "source": [
        "from collections import deque\n",
        "N = int(input())\n",
        "dq = deque(range(1,N+1))\n",
        "\n",
        "while len(dq) > 1 :\n",
        "  dq.popleft()\n",
        "  dq.append(dq.popleft())\n",
        "print(dq.popleft())"
      ],
      "metadata": {
        "colab": {
          "base_uri": "https://localhost:8080/"
        },
        "id": "oAv0W1SkT_Rq",
        "outputId": "55ea9ad8-f615-4efd-dde3-420ce95a32a6"
      },
      "execution_count": 75,
      "outputs": [
        {
          "output_type": "stream",
          "name": "stdout",
          "text": [
            "6\n",
            "4\n"
          ]
        }
      ]
    },
    {
      "cell_type": "code",
      "source": [],
      "metadata": {
        "id": "VFFm2OfsVCun"
      },
      "execution_count": null,
      "outputs": []
    }
  ]
}