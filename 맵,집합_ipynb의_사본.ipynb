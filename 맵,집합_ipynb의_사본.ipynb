{
  "nbformat": 4,
  "nbformat_minor": 0,
  "metadata": {
    "colab": {
      "provenance": [],
      "authorship_tag": "ABX9TyM6PrNKImSaRovlTjM1oT3N",
      "include_colab_link": true
    },
    "kernelspec": {
      "name": "python3",
      "display_name": "Python 3"
    },
    "language_info": {
      "name": "python"
    }
  },
  "cells": [
    {
      "cell_type": "markdown",
      "metadata": {
        "id": "view-in-github",
        "colab_type": "text"
      },
      "source": [
        "<a href=\"https://colab.research.google.com/github/eunjaelim/algorism/blob/main/%EB%A7%B5%2C%EC%A7%91%ED%95%A9_ipynb%EC%9D%98_%EC%82%AC%EB%B3%B8.ipynb\" target=\"_parent\"><img src=\"https://colab.research.google.com/assets/colab-badge.svg\" alt=\"Open In Colab\"/></a>"
      ]
    },
    {
      "cell_type": "markdown",
      "source": [
        "# 맵\n",
        "- 삽입/삭제 : O(logN)"
      ],
      "metadata": {
        "id": "Gx5XxjcEI-Ql"
      }
    },
    {
      "cell_type": "code",
      "execution_count": null,
      "metadata": {
        "colab": {
          "base_uri": "https://localhost:8080/"
        },
        "id": "YRhlss-QIjln",
        "outputId": "5cb2bf38-b4af-4258-c657-b8dd6928af75"
      },
      "outputs": [
        {
          "output_type": "stream",
          "name": "stdout",
          "text": [
            "size: 3\n",
            "Yoondy 40\n",
            "Sky 100\n",
            "Jerry 50\n"
          ]
        }
      ],
      "source": [
        "m = {}\n",
        "m[\"Yoondy\"] = 40\n",
        "m[\"Sky\"] = 100\n",
        "m[\"Jerry\"] = 50\n",
        "print(\"size:\", len(m))\n",
        "for k in m :\n",
        "  print(k,m[k])"
      ]
    },
    {
      "cell_type": "markdown",
      "source": [
        "# 집합\n",
        "- 중복 X\n",
        "- 삽입/삭제 : O(log(N))"
      ],
      "metadata": {
        "id": "tONd0xIuJO2x"
      }
    },
    {
      "cell_type": "code",
      "source": [
        "s = set()\n",
        "s.add(456)\n",
        "s.add(12)\n",
        "s.add(456)\n",
        "s.add(7890)\n",
        "s.add(7890)\n",
        "s.add(456)\n",
        "\n",
        "print(\"size : \", len(s))\n",
        "for i in s :\n",
        "  print(i)"
      ],
      "metadata": {
        "colab": {
          "base_uri": "https://localhost:8080/"
        },
        "id": "5bChjz7FJNus",
        "outputId": "16bbecd4-9fff-476e-ad20-2e45b0a28fb8"
      },
      "execution_count": null,
      "outputs": [
        {
          "output_type": "stream",
          "name": "stdout",
          "text": [
            "size :  3\n",
            "456\n",
            "7890\n",
            "12\n"
          ]
        }
      ]
    },
    {
      "cell_type": "code",
      "source": [],
      "metadata": {
        "id": "462Z2XXsI0xh"
      },
      "execution_count": null,
      "outputs": []
    }
  ]
}