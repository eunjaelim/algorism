{
  "nbformat": 4,
  "nbformat_minor": 0,
  "metadata": {
    "colab": {
      "provenance": [],
      "authorship_tag": "ABX9TyNmrg8jhZn8D9niQkk3a1eX",
      "include_colab_link": true
    },
    "kernelspec": {
      "name": "python3",
      "display_name": "Python 3"
    },
    "language_info": {
      "name": "python"
    }
  },
  "cells": [
    {
      "cell_type": "markdown",
      "metadata": {
        "id": "view-in-github",
        "colab_type": "text"
      },
      "source": [
        "<a href=\"https://colab.research.google.com/github/eunjaelim/algorism/blob/main/%EB%B0%B0%EC%97%B4%2C%EB%B2%A1%ED%84%B0%2C%EC%97%B0%EA%B2%B0%EB%A6%AC%EC%8A%A4%ED%8A%B8.ipynb\" target=\"_parent\"><img src=\"https://colab.research.google.com/assets/colab-badge.svg\" alt=\"Open In Colab\"/></a>"
      ]
    },
    {
      "cell_type": "markdown",
      "source": [
        "#### 배열 Array\n",
        "\n",
        "- 시간 복잡도\n",
        " - 탐색 :  O(1)\n",
        " - 삽입/삭제 : O(N)\n",
        " - 파이썬은 리스트"
      ],
      "metadata": {
        "id": "kGvsIz7bafkG"
      }
    },
    {
      "cell_type": "code",
      "execution_count": 1,
      "metadata": {
        "id": "5HZOLxuuaFjn"
      },
      "outputs": [],
      "source": [
        "arr = [10, 11, 12, 13]"
      ]
    },
    {
      "cell_type": "code",
      "source": [
        "arr[2] = 5\n",
        "arr"
      ],
      "metadata": {
        "colab": {
          "base_uri": "https://localhost:8080/"
        },
        "id": "22ce_HOmaaZp",
        "outputId": "900ea852-fed1-47dd-a9d4-53a620796c02"
      },
      "execution_count": 2,
      "outputs": [
        {
          "output_type": "execute_result",
          "data": {
            "text/plain": [
              "[10, 11, 5, 13]"
            ]
          },
          "metadata": {},
          "execution_count": 2
        }
      ]
    },
    {
      "cell_type": "code",
      "source": [],
      "metadata": {
        "id": "zTWVHRNgab4K"
      },
      "execution_count": null,
      "outputs": []
    },
    {
      "cell_type": "markdown",
      "source": [
        "#### 벡터 Vector\n",
        "- 탐색 : O(1)\n",
        "- 삽입 / 삭제 : O(N)\n",
        "- 동적 배열 (사이즈 변경가능)"
      ],
      "metadata": {
        "id": "t8nNh-vRcGDC"
      }
    },
    {
      "cell_type": "code",
      "source": [
        "v = []\n",
        "v.append((123,456))\n",
        "v.append((789,987))\n",
        "print(\"size:\",len(v))\n",
        "for p in v :\n",
        "  print(p)"
      ],
      "metadata": {
        "colab": {
          "base_uri": "https://localhost:8080/"
        },
        "id": "xC_IlroPcS-p",
        "outputId": "bb5b3127-e014-4aae-84b5-7e7e501612ce"
      },
      "execution_count": 4,
      "outputs": [
        {
          "output_type": "stream",
          "name": "stdout",
          "text": [
            "size: 2\n",
            "(123, 456)\n",
            "(789, 987)\n"
          ]
        }
      ]
    },
    {
      "cell_type": "markdown",
      "source": [
        "#### 연결리스트\n",
        "- 삽입 / 삭제 : O(1)\n",
        "- 탐색 : O(N)\n",
        "- 다른 자료구조들을 구현할 때 많이 쓰임"
      ],
      "metadata": {
        "id": "EW3556Hwjp9r"
      }
    },
    {
      "cell_type": "code",
      "source": [],
      "metadata": {
        "id": "FLoANH3vcgoc"
      },
      "execution_count": null,
      "outputs": []
    }
  ]
}