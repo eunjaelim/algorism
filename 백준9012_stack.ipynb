{
  "nbformat": 4,
  "nbformat_minor": 0,
  "metadata": {
    "colab": {
      "provenance": [],
      "authorship_tag": "ABX9TyOvB0KOfyyCgWiXjXvTDmYx",
      "include_colab_link": true
    },
    "kernelspec": {
      "name": "python3",
      "display_name": "Python 3"
    },
    "language_info": {
      "name": "python"
    }
  },
  "cells": [
    {
      "cell_type": "markdown",
      "metadata": {
        "id": "view-in-github",
        "colab_type": "text"
      },
      "source": [
        "<a href=\"https://colab.research.google.com/github/eunjaelim/algorism/blob/main/%EB%B0%B1%EC%A4%809012_stack.ipynb\" target=\"_parent\"><img src=\"https://colab.research.google.com/assets/colab-badge.svg\" alt=\"Open In Colab\"/></a>"
      ]
    },
    {
      "cell_type": "code",
      "execution_count": 10,
      "metadata": {
        "colab": {
          "base_uri": "https://localhost:8080/"
        },
        "id": "ii1PbZcRBhmR",
        "outputId": "94a27e07-b49f-4c5d-cd4e-f59444de186c"
      },
      "outputs": [
        {
          "output_type": "stream",
          "name": "stdout",
          "text": [
            "2이상~ 50이하 개의 괄호를 입력하세요 : ((\n",
            "NO\n"
          ]
        }
      ],
      "source": [
        "VPS = input(\"2이상~ 50이하 개의 괄호를 입력하세요 : \")\n",
        "\n",
        "left_b = []\n",
        "right_b = []\n",
        "for i in VPS :\n",
        "  if i == \"(\" :\n",
        "      left_b.append(i)\n",
        "  else:\n",
        "    right_b.append(i)\n",
        "\n",
        "if len(left_b) == len(right_b):\n",
        "  print(\"YES\")\n",
        "else :\n",
        "  print(\"NO\")"
      ]
    },
    {
      "cell_type": "code",
      "source": [
        "\n",
        "for _ in range(int(input())):\n",
        "  stk=[]\n",
        "  isVPN = True\n",
        "  for ch in input():\n",
        "    if ch == \"(\" :\n",
        "      stk.append(ch)\n",
        "    else :\n",
        "      if stk :\n",
        "        stk.pop()\n",
        "      else :\n",
        "        isVPN = False\n",
        "        break\n",
        "\n",
        "  if stk :\n",
        "    isVPN = False\n",
        "\n",
        "  print('YES' if isVPN else 'NO')\n",
        "\n",
        "\n"
      ],
      "metadata": {
        "colab": {
          "base_uri": "https://localhost:8080/"
        },
        "id": "12kpgmrmCR03",
        "outputId": "c3da3dfc-7d94-4411-a5e6-3ac13e6e49be"
      },
      "execution_count": null,
      "outputs": [
        {
          "output_type": "stream",
          "name": "stdout",
          "text": [
            "3\n",
            "((\n",
            "NO\n",
            "))\n",
            "NO\n"
          ]
        }
      ]
    },
    {
      "cell_type": "code",
      "source": [
        "6\n",
        "3\n",
        "4\n"
      ],
      "metadata": {
        "id": "OPFX4p7fHjaU"
      },
      "execution_count": null,
      "outputs": []
    }
  ]
}